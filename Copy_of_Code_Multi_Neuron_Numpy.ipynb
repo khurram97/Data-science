{
  "nbformat": 4,
  "nbformat_minor": 0,
  "metadata": {
    "colab": {
      "name": "Copy of Code Multi Neuron Numpy",
      "provenance": [],
      "authorship_tag": "ABX9TyMq52nLeXZxHCjddLqVOtz5",
      "include_colab_link": true
    },
    "kernelspec": {
      "name": "python3",
      "display_name": "Python 3"
    },
    "accelerator": "GPU"
  },
  "cells": [
    {
      "cell_type": "markdown",
      "metadata": {
        "id": "view-in-github",
        "colab_type": "text"
      },
      "source": [
        "<a href=\"https://colab.research.google.com/github/khurram97/Data-science/blob/main/Copy_of_Code_Multi_Neuron_Numpy.ipynb\" target=\"_parent\"><img src=\"https://colab.research.google.com/assets/colab-badge.svg\" alt=\"Open In Colab\"/></a>"
      ]
    },
    {
      "cell_type": "code",
      "metadata": {
        "colab": {
          "base_uri": "https://localhost:8080/"
        },
        "id": "oyHatfUWnUJW",
        "outputId": "69602a9a-3cce-4eda-c174-94bd764ba4c9"
      },
      "source": [
        "inputs = [6, 7, -9]\r\n",
        "weights = [-0.8, 9, 1]\r\n",
        "bias = 2\r\n",
        "\r\n",
        "output = (inputs[0]*weights[0] +\r\n",
        "          inputs[1]*weights[1] +\r\n",
        "          inputs[2]*weights[2] + bias)\r\n",
        "print(output) "
      ],
      "execution_count": null,
      "outputs": [
        {
          "output_type": "stream",
          "text": [
            "51.2\n"
          ],
          "name": "stdout"
        }
      ]
    },
    {
      "cell_type": "code",
      "metadata": {
        "colab": {
          "base_uri": "https://localhost:8080/"
        },
        "id": "hrXw_O6p0yQp",
        "outputId": "0ba0982f-9142-4766-8427-458868c33c6f"
      },
      "source": [
        "inputs = [6, 7, -9, 8]\r\n",
        "weights1 = [-0.8, 9, 1, 7]\r\n",
        "weights2 = [1,3,5, 7]\r\n",
        "weights3 = [4,6,8, 8]\r\n",
        "bias1 = 2\r\n",
        "bias2 = 4\r\n",
        "bias3 = 5\r\n",
        "\r\n",
        "\r\n",
        "output = [\r\n",
        "       # Neuron 1:\r\n",
        "       inputs[0]*weights1[0] +\r\n",
        "       inputs[1]*weights1[1] +\r\n",
        "       inputs[2]*weights1[2] +\r\n",
        "       inputs[3]*weights1[3] + bias1,\r\n",
        "\r\n",
        "\r\n",
        "       # Neuron 2:\r\n",
        "       inputs[0]*weights2[0] +\r\n",
        "       inputs[1]*weights2[1] +\r\n",
        "       inputs[2]*weights2[2] +\r\n",
        "       inputs[3]*weights2[3] + bias2,\r\n",
        "\r\n",
        "\r\n",
        "       # Neuron 3:\r\n",
        "       inputs[0]*weights3[0] +\r\n",
        "       inputs[1]*weights3[1] +\r\n",
        "       inputs[2]*weights3[2] +\r\n",
        "       inputs[3]*weights3[3] + bias3]\r\n",
        "\r\n",
        "print(output)\r\n",
        "\r\n",
        "\r\n",
        "\r\n",
        "\r\n",
        "       \r\n",
        "\r\n",
        " \r\n",
        "\r\n",
        "       \r\n",
        "\r\n"
      ],
      "execution_count": null,
      "outputs": [
        {
          "output_type": "stream",
          "text": [
            "[107.2, 42, 63]\n"
          ],
          "name": "stdout"
        }
      ]
    },
    {
      "cell_type": "code",
      "metadata": {
        "colab": {
          "base_uri": "https://localhost:8080/"
        },
        "id": "WMqirS0ED93k",
        "outputId": "b1e9a78b-81a7-443b-c592-96cec8e8804f"
      },
      "source": [
        "inputs = [1, 2, 3, 4]\r\n",
        "weights = [[0.2, 0.8, -0.5],\r\n",
        "           [0.5, -0.91, 0.26],\r\n",
        "           [-0.26, -0.27, 0.17]]\r\n",
        "biases = [3, 4, 6]\r\n",
        "#output for current layer\r\n",
        "layer_outputs = []\r\n",
        "#For each neuron\r\n",
        "for neuron_weights, neuron_bias in zip(weights, biases):\r\n",
        "   #Zeroed output of given neuron\r\n",
        "   neuron_output = 0\r\n",
        "   #For each input and weight to the neuron\r\n",
        "   for n_input, weight in zip(inputs, neuron_weights):\r\n",
        "     #Multiple  this input by associated weight\r\n",
        "     #and add to the neuron output variable\r\n",
        "\r\n",
        "        neuron_output += n_input*weight\r\n",
        "#Add bias\r\n",
        "neuron_output += neuron_bias\r\n",
        "#Put neuron result to the layer output list\r\n",
        "layer_outputs.append(neuron_output)\r\n",
        "#Print(neuron_weights)\r\n",
        "\r\n",
        "inputs = [2, 3, 4]\r\n",
        "weights = [0.2, 0.7, 0.8]\r\n",
        "bias = 3.0\r\n",
        "# Y = x.w + b\r\n",
        "import numpy as np\r\n",
        "output = np.dot(weight, inputs) + bias\r\n",
        "print(output)\r\n",
        "\r\n",
        "\r\n",
        "\r\n",
        "\r\n",
        "        "
      ],
      "execution_count": null,
      "outputs": [
        {
          "output_type": "stream",
          "text": [
            "[3.34 3.51 3.68]\n"
          ],
          "name": "stdout"
        }
      ]
    },
    {
      "cell_type": "code",
      "metadata": {
        "id": "mo-lJPsmctIg"
      },
      "source": [
        ""
      ],
      "execution_count": null,
      "outputs": []
    }
  ]
}